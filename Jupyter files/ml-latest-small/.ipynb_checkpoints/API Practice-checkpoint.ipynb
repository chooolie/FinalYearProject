{
 "cells": [
  {
   "cell_type": "code",
   "execution_count": 24,
   "metadata": {
    "scrolled": true
   },
   "outputs": [
    {
     "name": "stdout",
     "output_type": "stream",
     "text": [
      "Toy Story\n",
      "Led by Woody, Andy's toys live happily in his room until Andy's birthday brings Buzz Lightyear onto the scene. Afraid of losing his place in Andy's heart, Woody plots against Buzz. But when circumstances separate Buzz and Woody from their owner, the duo eventually learns to put aside their differences.\n",
      "25.184\n",
      "https://image.tmdb.org/t/p/w1280/rhIRbceoE9lR4veEXuwCC2wARtG.jpg\n",
      "The Matrix Revolutions\n",
      "Django Unchained\n",
      "The Matrix Reloaded\n",
      "Hachi: A Dog's Tale\n",
      "Kung Fu Panda 3\n",
      "Kung Fu Panda\n",
      "Kung Fu Panda 2\n",
      "Friends with Benefits\n",
      "Casper\n",
      "(500) Days of Summer\n",
      "Pinocchio\n",
      "Entourage\n",
      "The Expendables\n",
      "Batman Begins\n",
      "Kill Bill: Vol. 1\n",
      "Inception\n",
      "A Silent Voice\n",
      "Charlotte's Web\n",
      "Cloverfield\n",
      "Death Becomes Her\n"
     ]
    }
   ],
   "source": [
    "''' Testing the API works'''\n",
    "\n",
    "from tmdbv3api import TMDb\n",
    "import pandas as pd \n",
    "tmdb = TMDb()\n",
    "tmdb.api_key = '69c1026aa20e6449c7a0f74f69dffd7d'\n",
    "\n",
    "tmdb.language = 'en'\n",
    "from tmdbv3api import Movie\n",
    "\n",
    "movie = Movie()\n",
    "m = movie.details(862)\n",
    "\n",
    "print(m.title)\n",
    "print(m.overview)\n",
    "print(m.popularity)\n",
    "print(\"https://image.tmdb.org/t/p/w1280\" + m.poster_path)\n",
    "\n",
    "similar = movie.similar(862)\n",
    "\n",
    "for result in similar:\n",
    "    print(result.title)\n"
   ]
  },
  {
   "cell_type": "code",
   "execution_count": 19,
   "metadata": {},
   "outputs": [],
   "source": [
    "movies = pd.read_csv(\"movies.csv\")\n",
    "links = pd.read_csv(\"links.csv\")\n",
    "links['tmdbId'] = links['tmdbId'].fillna(0.0).astype(int)\n",
    "\n",
    "#Merge the two data sets on movieID\n",
    "merged = pd.merge(links, movies, on='movieId')\n",
    "merged = merged.drop(columns='imdbId')\n",
    "\n",
    "merged.to_csv(\"movies_links.csv\", sep=',', index=False)\n"
   ]
  }
 ],
 "metadata": {
  "kernelspec": {
   "display_name": "Python 3",
   "language": "python",
   "name": "python3"
  },
  "language_info": {
   "codemirror_mode": {
    "name": "ipython",
    "version": 3
   },
   "file_extension": ".py",
   "mimetype": "text/x-python",
   "name": "python",
   "nbconvert_exporter": "python",
   "pygments_lexer": "ipython3",
   "version": "3.6.2"
  }
 },
 "nbformat": 4,
 "nbformat_minor": 2
}
