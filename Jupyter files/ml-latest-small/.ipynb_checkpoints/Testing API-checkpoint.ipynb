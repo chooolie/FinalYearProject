{
 "cells": [
  {
   "cell_type": "code",
   "execution_count": 1,
   "metadata": {},
   "outputs": [],
   "source": [
    "import re\n",
    "import pandas as pd \n",
    "\n",
    "data = pd.read_csv(\"movies.csv\")\n",
    "  \n",
    "# dropping null value columns to avoid errors \n",
    "data.dropna(inplace = True) \n",
    "  \n",
    "# new data frame with split value columns \n",
    "new = data[\"genres\"].str.split(\"|\", n = 1, expand = True) \n",
    "# making seperate first name column from new data frame \n",
    "data[\"genre2\"]= new[0] \n",
    "# making seperate last name column from new data frame \n",
    "data[\"genre1\"]= new[1] \n",
    "data.drop(columns =[\"genres\"], inplace = True) \n"
   ]
  },
  {
   "cell_type": "code",
   "execution_count": 2,
   "metadata": {},
   "outputs": [
    {
     "name": "stdout",
     "output_type": "stream",
     "text": [
      "input tmdbid862\n",
      "{'adult': False, 'backdrop_path': '/dji4Fm0gCDVb9DQQMRvAI8YNnTz.jpg', 'belongs_to_collection': {'id': 10194, 'name': 'Toy Story Collection', 'poster_path': '/7G9915LfUQ2lVfwMEEhDsn3kT4B.jpg', 'backdrop_path': '/9FBwqcd9IRruEDUrTdcaafOMKUq.jpg'}, 'budget': 30000000, 'genres': [{'id': 16, 'name': 'Animation'}, {'id': 35, 'name': 'Comedy'}, {'id': 10751, 'name': 'Family'}], 'homepage': 'http://toystory.disney.com/toy-story', 'id': 862, 'imdb_id': 'tt0114709', 'original_language': 'en', 'original_title': 'Toy Story', 'overview': \"Led by Woody, Andy's toys live happily in his room until Andy's birthday brings Buzz Lightyear onto the scene. Afraid of losing his place in Andy's heart, Woody plots against Buzz. But when circumstances separate Buzz and Woody from their owner, the duo eventually learns to put aside their differences.\", 'popularity': 29.228, 'poster_path': '/rhIRbceoE9lR4veEXuwCC2wARtG.jpg', 'production_companies': [{'id': 3, 'logo_path': '/1TjvGVDMYsj6JBxOAkUHpPEwLf7.png', 'name': 'Pixar', 'origin_country': 'US'}], 'production_countries': [{'iso_3166_1': 'US', 'name': 'United States of America'}], 'release_date': '1995-10-30', 'revenue': 373554033, 'runtime': 81, 'spoken_languages': [{'iso_639_1': 'en', 'name': 'English'}], 'status': 'Released', 'tagline': '', 'title': 'Toy Story', 'video': False, 'vote_average': 7.9, 'vote_count': 9826}\n"
     ]
    }
   ],
   "source": [
    "\n",
    "'''\n",
    "Combine the movies and links \n",
    "Get the link for each movie\n",
    "'''\n",
    "#read in movie csv file\n",
    "movies = pd.read_csv(\"movies.csv\")\n",
    "links = pd.read_csv(\"links.csv\")\n",
    "links['tmdbId'] = links['tmdbId'].fillna(0.0).astype(int)\n",
    "\n",
    "#Merge the two data sets on movieID\n",
    "merged = pd.merge(links, movies, on='movieId')\n",
    "import urllib\n",
    "\n",
    "from urllib.request import urlopen\n",
    "import json\n",
    "\n",
    "a = input(\"input tmdbid\")\n",
    "\n",
    "response = urlopen('https://api.themoviedb.org/3/movie/'+a+'?api_key=69c1026aa20e6449c7a0f74f69dffd7d')\n",
    "html = response.read()\n",
    "jdata = json.loads(html)\n",
    "#print(html)\n",
    "print(jdata)\n",
    "#https://www.themoviedb.org/movie/\n",
    "#get the genre\n",
    "\n",
    "#input 862 for toy story\n"
   ]
  },
  {
   "cell_type": "code",
   "execution_count": 3,
   "metadata": {},
   "outputs": [
    {
     "data": {
      "text/html": [
       "<div>\n",
       "<style scoped>\n",
       "    .dataframe tbody tr th:only-of-type {\n",
       "        vertical-align: middle;\n",
       "    }\n",
       "\n",
       "    .dataframe tbody tr th {\n",
       "        vertical-align: top;\n",
       "    }\n",
       "\n",
       "    .dataframe thead th {\n",
       "        text-align: right;\n",
       "    }\n",
       "</style>\n",
       "<table border=\"1\" class=\"dataframe\">\n",
       "  <thead>\n",
       "    <tr style=\"text-align: right;\">\n",
       "      <th></th>\n",
       "      <th>genre</th>\n",
       "      <th>tmdbId</th>\n",
       "    </tr>\n",
       "  </thead>\n",
       "  <tbody>\n",
       "    <tr>\n",
       "      <th>0</th>\n",
       "      <td>Animation</td>\n",
       "      <td>862</td>\n",
       "    </tr>\n",
       "    <tr>\n",
       "      <th>1</th>\n",
       "      <td>Comedy</td>\n",
       "      <td>862</td>\n",
       "    </tr>\n",
       "    <tr>\n",
       "      <th>2</th>\n",
       "      <td>Family</td>\n",
       "      <td>862</td>\n",
       "    </tr>\n",
       "  </tbody>\n",
       "</table>\n",
       "</div>"
      ],
      "text/plain": [
       "       genre tmdbId\n",
       "0  Animation    862\n",
       "1     Comedy    862\n",
       "2     Family    862"
      ]
     },
     "execution_count": 3,
     "metadata": {},
     "output_type": "execute_result"
    }
   ],
   "source": [
    "#a = input(\"input tmdbid\")\n",
    "mId = a\n",
    "genres = jdata['genres']\n",
    "overvi = jdata['overview']\n",
    "lang = jdata['original_language']\n",
    "release_date = jdata['release_date']\n",
    "\n",
    "gen = []\n",
    "movie_id = []\n",
    "\n",
    "''' Give the genres seperate DF'''\n",
    "\n",
    "for i in range(len(genres)):\n",
    "    #print(genres[i]['name'])\n",
    "    gen.append(str(genres[i]['name']))\n",
    "    movie_id.append(mId) \n",
    "\n",
    "df = pd.DataFrame(gen)\n",
    "df.rename(columns={0: 'genre'}, inplace=True)\n",
    "df2 = pd.DataFrame(movie_id)\n",
    "df2.rename(columns={0: 'tmdbId'}, inplace=True)\n",
    "frame = [df,df2]\n",
    "readable_cont = pd.concat(frame,axis=1)\n",
    "#readable_cont.columns['genre','tmdbId']\n",
    "\n",
    "#readable_cont.rename(index=str, columns={0: \"a\", 0: \"c\"}, inplace=True)\n",
    "readable_cont\n",
    "\n"
   ]
  },
  {
   "cell_type": "code",
   "execution_count": 4,
   "metadata": {},
   "outputs": [
    {
     "ename": "IndexError",
     "evalue": "only integers, slices (`:`), ellipsis (`...`), numpy.newaxis (`None`) and integer or boolean arrays are valid indices",
     "output_type": "error",
     "traceback": [
      "\u001b[1;31m---------------------------------------------------------------------------\u001b[0m",
      "\u001b[1;31mIndexError\u001b[0m                                Traceback (most recent call last)",
      "\u001b[1;32m<ipython-input-4-67aec490755c>\u001b[0m in \u001b[0;36m<module>\u001b[1;34m()\u001b[0m\n\u001b[0;32m     30\u001b[0m     \u001b[0mframe\u001b[0m \u001b[1;33m=\u001b[0m \u001b[1;33m[\u001b[0m\u001b[0mdf\u001b[0m\u001b[1;33m,\u001b[0m\u001b[0mdf2\u001b[0m\u001b[1;33m]\u001b[0m\u001b[1;33m\u001b[0m\u001b[0m\n\u001b[0;32m     31\u001b[0m     \u001b[0mread_cont\u001b[0m \u001b[1;33m=\u001b[0m \u001b[0mpd\u001b[0m\u001b[1;33m.\u001b[0m\u001b[0mconcat\u001b[0m\u001b[1;33m(\u001b[0m\u001b[0mframe\u001b[0m\u001b[1;33m,\u001b[0m\u001b[0maxis\u001b[0m\u001b[1;33m=\u001b[0m\u001b[1;36m1\u001b[0m\u001b[1;33m)\u001b[0m\u001b[1;33m\u001b[0m\u001b[0m\n\u001b[1;32m---> 32\u001b[1;33m     \u001b[0mread_cont\u001b[0m\u001b[1;33m.\u001b[0m\u001b[0mcolumns\u001b[0m\u001b[1;33m[\u001b[0m\u001b[1;34m'Overview'\u001b[0m\u001b[1;33m,\u001b[0m\u001b[1;34m'tmdbId'\u001b[0m\u001b[1;33m]\u001b[0m\u001b[1;33m\u001b[0m\u001b[0m\n\u001b[0m\u001b[0;32m     33\u001b[0m     \u001b[0mm_overview\u001b[0m \u001b[1;33m=\u001b[0m \u001b[0mpd\u001b[0m\u001b[1;33m.\u001b[0m\u001b[0mDataFrame\u001b[0m\u001b[1;33m\u001b[0m\u001b[0m\n\u001b[0;32m     34\u001b[0m     \u001b[0mm_overview\u001b[0m \u001b[1;33m=\u001b[0m \u001b[0mread_cont\u001b[0m\u001b[1;33m\u001b[0m\u001b[0m\n",
      "\u001b[1;32mc:\\users\\chooolie\\appdata\\local\\programs\\python\\python36-32\\lib\\site-packages\\pandas\\core\\indexes\\base.py\u001b[0m in \u001b[0;36m__getitem__\u001b[1;34m(self, key)\u001b[0m\n\u001b[0;32m   2093\u001b[0m \u001b[1;33m\u001b[0m\u001b[0m\n\u001b[0;32m   2094\u001b[0m         \u001b[0mkey\u001b[0m \u001b[1;33m=\u001b[0m \u001b[0mcom\u001b[0m\u001b[1;33m.\u001b[0m\u001b[0m_values_from_object\u001b[0m\u001b[1;33m(\u001b[0m\u001b[0mkey\u001b[0m\u001b[1;33m)\u001b[0m\u001b[1;33m\u001b[0m\u001b[0m\n\u001b[1;32m-> 2095\u001b[1;33m         \u001b[0mresult\u001b[0m \u001b[1;33m=\u001b[0m \u001b[0mgetitem\u001b[0m\u001b[1;33m(\u001b[0m\u001b[0mkey\u001b[0m\u001b[1;33m)\u001b[0m\u001b[1;33m\u001b[0m\u001b[0m\n\u001b[0m\u001b[0;32m   2096\u001b[0m         \u001b[1;32mif\u001b[0m \u001b[1;32mnot\u001b[0m \u001b[0mis_scalar\u001b[0m\u001b[1;33m(\u001b[0m\u001b[0mresult\u001b[0m\u001b[1;33m)\u001b[0m\u001b[1;33m:\u001b[0m\u001b[1;33m\u001b[0m\u001b[0m\n\u001b[0;32m   2097\u001b[0m             \u001b[1;32mreturn\u001b[0m \u001b[0mpromote\u001b[0m\u001b[1;33m(\u001b[0m\u001b[0mresult\u001b[0m\u001b[1;33m)\u001b[0m\u001b[1;33m\u001b[0m\u001b[0m\n",
      "\u001b[1;31mIndexError\u001b[0m: only integers, slices (`:`), ellipsis (`...`), numpy.newaxis (`None`) and integer or boolean arrays are valid indices"
     ]
    }
   ],
   "source": [
    "#a = input(\"input tmdbid\")\n",
    "#print(html)\n",
    "#print(jdata)\n",
    "#https://www.themoviedb.org/movie/\n",
    "#get the genre\n",
    "\n",
    "mId = a\n",
    "overview_df = []\n",
    "tmdb_id = []\n",
    "lang_df = []\n",
    "\n",
    "#for j in range(len(merged)):\n",
    "#Just do for first 10 to make sure it works\n",
    "for j in range(10):\n",
    "\n",
    "    mId = merged['tmdbId'][j]\n",
    "    response = urlopen('https://api.themoviedb.org/3/movie/'+str(mId)+'?api_key=69c1026aa20e6449c7a0f74f69dffd7d')\n",
    "    html = response.read()\n",
    "    jdata = json.loads(html)\n",
    "    over = jdata['overview']\n",
    "    lang = jdata['original_language']\n",
    "    release_date = jdata['release_date']\n",
    "    overview_df.append(over)\n",
    "    lang_df.append(lang)\n",
    "    tmdb_id.append(mId)\n",
    "    df = pd.DataFrame(overview_df)\n",
    "    df.rename(columns={0: 'Overview'},  inplace=True)\n",
    "    df2 = pd.DataFrame(tmdb_id)\n",
    "    df2.rename(columns={0: 'tmdbId'}, inplace=True)\n",
    "    frame = [df,df2]\n",
    "    read_cont = pd.concat(frame,axis=1)\n",
    "    read_cont.columns['Overview','tmdbId']\n",
    "    m_overview = pd.DataFrame\n",
    "    m_overview = read_cont\n",
    "    m_overview = genre_list.append(readable_cont)\n",
    "    #readable_cont.rename(index=str, columns={0: \"a\", 0: \"c\"}, inplace=True, )\n"
   ]
  },
  {
   "cell_type": "code",
   "execution_count": 5,
   "metadata": {},
   "outputs": [
    {
     "ename": "IndexError",
     "evalue": "only integers, slices (`:`), ellipsis (`...`), numpy.newaxis (`None`) and integer or boolean arrays are valid indices",
     "output_type": "error",
     "traceback": [
      "\u001b[1;31m---------------------------------------------------------------------------\u001b[0m",
      "\u001b[1;31mIndexError\u001b[0m                                Traceback (most recent call last)",
      "\u001b[1;32m<ipython-input-5-3c914322426f>\u001b[0m in \u001b[0;36m<module>\u001b[1;34m()\u001b[0m\n\u001b[0;32m     19\u001b[0m     \u001b[0mframe\u001b[0m \u001b[1;33m=\u001b[0m \u001b[1;33m[\u001b[0m\u001b[0mdf\u001b[0m\u001b[1;33m,\u001b[0m\u001b[0mdf2\u001b[0m\u001b[1;33m,\u001b[0m\u001b[0mdf1\u001b[0m\u001b[1;33m]\u001b[0m\u001b[1;33m\u001b[0m\u001b[0m\n\u001b[0;32m     20\u001b[0m     \u001b[0mread_cont\u001b[0m \u001b[1;33m=\u001b[0m \u001b[0mpd\u001b[0m\u001b[1;33m.\u001b[0m\u001b[0mconcat\u001b[0m\u001b[1;33m(\u001b[0m\u001b[0mframe\u001b[0m\u001b[1;33m,\u001b[0m\u001b[0maxis\u001b[0m\u001b[1;33m=\u001b[0m\u001b[1;36m1\u001b[0m\u001b[1;33m)\u001b[0m\u001b[1;33m\u001b[0m\u001b[0m\n\u001b[1;32m---> 21\u001b[1;33m     \u001b[0mread_cont\u001b[0m\u001b[1;33m.\u001b[0m\u001b[0mcolumns\u001b[0m\u001b[1;33m[\u001b[0m\u001b[1;34m'Overview'\u001b[0m\u001b[1;33m,\u001b[0m\u001b[1;34m'tmdbId'\u001b[0m\u001b[1;33m,\u001b[0m \u001b[1;34m'Lang'\u001b[0m\u001b[1;33m]\u001b[0m\u001b[1;33m\u001b[0m\u001b[0m\n\u001b[0m\u001b[0;32m     22\u001b[0m     \u001b[0mm_overview\u001b[0m \u001b[1;33m=\u001b[0m \u001b[0mpd\u001b[0m\u001b[1;33m.\u001b[0m\u001b[0mDataFrame\u001b[0m\u001b[1;33m\u001b[0m\u001b[0m\n\u001b[0;32m     23\u001b[0m     \u001b[0mm_overview\u001b[0m \u001b[1;33m=\u001b[0m \u001b[0mread_cont\u001b[0m\u001b[1;33m\u001b[0m\u001b[0m\n",
      "\u001b[1;32mc:\\users\\chooolie\\appdata\\local\\programs\\python\\python36-32\\lib\\site-packages\\pandas\\core\\indexes\\base.py\u001b[0m in \u001b[0;36m__getitem__\u001b[1;34m(self, key)\u001b[0m\n\u001b[0;32m   2093\u001b[0m \u001b[1;33m\u001b[0m\u001b[0m\n\u001b[0;32m   2094\u001b[0m         \u001b[0mkey\u001b[0m \u001b[1;33m=\u001b[0m \u001b[0mcom\u001b[0m\u001b[1;33m.\u001b[0m\u001b[0m_values_from_object\u001b[0m\u001b[1;33m(\u001b[0m\u001b[0mkey\u001b[0m\u001b[1;33m)\u001b[0m\u001b[1;33m\u001b[0m\u001b[0m\n\u001b[1;32m-> 2095\u001b[1;33m         \u001b[0mresult\u001b[0m \u001b[1;33m=\u001b[0m \u001b[0mgetitem\u001b[0m\u001b[1;33m(\u001b[0m\u001b[0mkey\u001b[0m\u001b[1;33m)\u001b[0m\u001b[1;33m\u001b[0m\u001b[0m\n\u001b[0m\u001b[0;32m   2096\u001b[0m         \u001b[1;32mif\u001b[0m \u001b[1;32mnot\u001b[0m \u001b[0mis_scalar\u001b[0m\u001b[1;33m(\u001b[0m\u001b[0mresult\u001b[0m\u001b[1;33m)\u001b[0m\u001b[1;33m:\u001b[0m\u001b[1;33m\u001b[0m\u001b[0m\n\u001b[0;32m   2097\u001b[0m             \u001b[1;32mreturn\u001b[0m \u001b[0mpromote\u001b[0m\u001b[1;33m(\u001b[0m\u001b[0mresult\u001b[0m\u001b[1;33m)\u001b[0m\u001b[1;33m\u001b[0m\u001b[0m\n",
      "\u001b[1;31mIndexError\u001b[0m: only integers, slices (`:`), ellipsis (`...`), numpy.newaxis (`None`) and integer or boolean arrays are valid indices"
     ]
    }
   ],
   "source": [
    "for j in range(10):\n",
    "\n",
    "    mId = merged['tmdbId'][j]\n",
    "    response = urlopen('https://api.themoviedb.org/3/movie/'+str(mId)+'?api_key=69c1026aa20e6449c7a0f74f69dffd7d')\n",
    "    html = response.read()\n",
    "    jdata = json.loads(html)\n",
    "    over = jdata['overview']\n",
    "    lang = jdata['original_language']\n",
    "    release_date = jdata['release_date']\n",
    "    overview_df.append(over)\n",
    "    lang_df.append(lang)\n",
    "    tmdb_id.append(mId)\n",
    "    df = pd.DataFrame(overview_df)\n",
    "    df.rename(columns={0: 'Overview'},  inplace=True)\n",
    "    df1 = pd.DataFrame(lang_df)\n",
    "    df1.rename(columns={0: 'Lang'}, inplace=True)\n",
    "    df2 = pd.DataFrame(tmdb_id)\n",
    "    df2.rename(columns={0: 'tmdbId'}, inplace=True)\n",
    "    frame = [df,df2,df1]\n",
    "    read_cont = pd.concat(frame,axis=1)\n",
    "    read_cont.columns['Overview','tmdbId', 'Lang']\n",
    "    m_overview = pd.DataFrame\n",
    "    m_overview = read_cont\n",
    "    m_overview = genre_list.append(readable_cont)\n",
    "    #readable_cont.rename(index=str, columns={0: \"a\", 0: \"c\"}, inplace=True, )"
   ]
  }
 ],
 "metadata": {
  "kernelspec": {
   "display_name": "Python 3",
   "language": "python",
   "name": "python3"
  },
  "language_info": {
   "codemirror_mode": {
    "name": "ipython",
    "version": 3
   },
   "file_extension": ".py",
   "mimetype": "text/x-python",
   "name": "python",
   "nbconvert_exporter": "python",
   "pygments_lexer": "ipython3",
   "version": "3.6.2"
  }
 },
 "nbformat": 4,
 "nbformat_minor": 2
}
