{
 "cells": [
  {
   "cell_type": "code",
   "execution_count": 1,
   "metadata": {},
   "outputs": [
    {
     "data": {
      "text/plain": [
       "[(' Danny', 9),\n",
       " ('Matrix, The (1999)', 2),\n",
       " ('Shawshank Redemption, The (1994)', 2),\n",
       " ('Pulp Fiction (1994)', 1),\n",
       " ('Braveheart (1995)', 1),\n",
       " ('Forrest Gump (1994)', 1),\n",
       " ('Blade Runner (1982)', 1),\n",
       " ('O Brother, Where Art Thou? (2000)', 1),\n",
       " ('Star Wars: Episode VI - Return of the Jedi (1983)', 1),\n",
       " ('Star Wars: Episode IV - A New Hope (1977)', 1),\n",
       " ('Babe (1995)', 1),\n",
       " ('Godfather, The (1972)', 1),\n",
       " ('Fargo (1996)', 1),\n",
       " ('Lord of the Rings: The Return of the King, The (2003)', 1),\n",
       " ('Batman Begins (2005)', 1),\n",
       " ('Saving Private Ryan (1998)', 1),\n",
       " ('Fight Club (1999)', 1),\n",
       " ('Shrek (2001)', 1),\n",
       " ('Contact (1997)', 1),\n",
       " ('Kill Bill: Vol. 2 (2004)', 1)]"
      ]
     },
     "execution_count": 1,
     "metadata": {},
     "output_type": "execute_result"
    }
   ],
   "source": [
    "###Testing frequency counter\n",
    "import numpy as np\n",
    "import warnings\n",
    "import matplotlib.pyplot as plt\n",
    "import seaborn as sns\n",
    "import pandas as pd \n",
    "\n",
    "from collections import Counter\n",
    "\n",
    "demo = pd.read_csv(\"topdemo.csv\")\n",
    "simuser = pd.read_csv(\"simuser3.csv\")\n",
    "\n",
    "demo\n",
    "d = demo['title'].tolist()\n",
    "s = simuser['title'].tolist()\n",
    "\n",
    "\n",
    "d.extend(s)\n",
    "all_mov= [word for word, word_count in Counter(d).most_common(10)]\n",
    "all_mov\n",
    "\n",
    "a = Counter(d).most_common(20)\n",
    "a"
   ]
  }
 ],
 "metadata": {
  "kernelspec": {
   "display_name": "Python 3",
   "language": "python",
   "name": "python3"
  },
  "language_info": {
   "codemirror_mode": {
    "name": "ipython",
    "version": 3
   },
   "file_extension": ".py",
   "mimetype": "text/x-python",
   "name": "python",
   "nbconvert_exporter": "python",
   "pygments_lexer": "ipython3",
   "version": "3.6.2"
  }
 },
 "nbformat": 4,
 "nbformat_minor": 2
}
