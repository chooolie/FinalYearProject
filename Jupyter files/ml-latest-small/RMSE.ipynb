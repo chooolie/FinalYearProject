{
 "cells": [
  {
   "cell_type": "code",
   "execution_count": 15,
   "metadata": {},
   "outputs": [
    {
     "name": "stderr",
     "output_type": "stream",
     "text": [
      "c:\\users\\chooolie\\appdata\\local\\programs\\python\\python36-32\\lib\\site-packages\\surprise\\evaluate.py:66: UserWarning: The evaluate() method is deprecated. Please use model_selection.cross_validate() instead.\n",
      "  'model_selection.cross_validate() instead.', UserWarning)\n",
      "c:\\users\\chooolie\\appdata\\local\\programs\\python\\python36-32\\lib\\site-packages\\surprise\\dataset.py:193: UserWarning: Using data.split() or using load_from_folds() without using a CV iterator is now deprecated. \n",
      "  UserWarning)\n"
     ]
    },
    {
     "name": "stdout",
     "output_type": "stream",
     "text": [
      "Evaluating RMSE of algorithm SVD.\n",
      "\n",
      "------------\n",
      "Fold 1\n",
      "RMSE: 0.8703\n",
      "------------\n",
      "Fold 2\n",
      "RMSE: 0.8760\n",
      "------------\n",
      "Fold 3\n",
      "RMSE: 0.8704\n",
      "------------\n",
      "Fold 4\n",
      "RMSE: 0.8786\n",
      "------------\n",
      "Fold 5\n",
      "RMSE: 0.8728\n",
      "------------\n",
      "------------\n",
      "Mean RMSE: 0.8736\n",
      "------------\n",
      "------------\n",
      "Evaluating RMSE of algorithm NMF.\n",
      "\n",
      "------------\n",
      "Fold 1\n",
      "RMSE: 0.9245\n",
      "------------\n",
      "Fold 2\n",
      "RMSE: 0.9240\n",
      "------------\n",
      "Fold 3\n",
      "RMSE: 0.9168\n",
      "------------\n",
      "Fold 4\n",
      "RMSE: 0.9213\n",
      "------------\n",
      "Fold 5\n",
      "RMSE: 0.9233\n",
      "------------\n",
      "------------\n",
      "Mean RMSE: 0.9220\n",
      "------------\n",
      "------------\n"
     ]
    },
    {
     "data": {
      "text/plain": [
       "CaseInsensitiveDefaultDict(list,\n",
       "                           {'rmse': [0.9245254466063806,\n",
       "                             0.9240155918835083,\n",
       "                             0.9168083457507801,\n",
       "                             0.9213218390309501,\n",
       "                             0.9232884770600565]})"
      ]
     },
     "execution_count": 15,
     "metadata": {},
     "output_type": "execute_result"
    }
   ],
   "source": [
    "import pandas as pd\n",
    "#to use dataframes\n",
    "import numpy as np\n",
    "from surprise import Reader, Dataset\n",
    "from surprise import SVD, evaluate\n",
    "from surprise import NMF\n",
    "\n",
    "'''\n",
    "Using the SURPISE documentation\n",
    "I used the following source for inspirtation\n",
    "https://towardsdatascience.com/various-implementations-of-collaborative-filtering-100385c6dfe0\n",
    "'''\n",
    "\n",
    "# read in movies csv file as dataframe\n",
    "data_set= pd.read_csv(\"movies.csv\")\n",
    "# read in ratings csv file as dataframe\n",
    "full_ratings = pd.read_csv(\"ratings.csv\")\n",
    "#get rid of timestampe\n",
    "no_timestamp = {'itemID': list(full_ratings.movieId),\n",
    "                'userID': list(full_ratings.userId),\n",
    "                'rating': list(full_ratings.rating)}\n",
    "ratings = pd.DataFrame(no_timestamp)\n",
    "ratings\n",
    "# reader class is used to parse the file containing ratings\n",
    "#https://surprise.readthedocs.io/en/stable/reader.html\n",
    "reader = Reader(rating_scale=(0.5, 5.0))\n",
    "data = Dataset.load_from_df(ratings[['userID', 'itemID', 'rating']], reader)\n",
    "\n",
    "#Cross validation as talked about in research\n",
    "\n",
    "data.split(n_folds=5)\n",
    "\n",
    "algo = SVD()\n",
    "evaluate(algo, data, measures=['RMSE'])\n",
    "\n",
    "# nmf\n",
    "algo = NMF()\n",
    "evaluate(algo, data, measures=['RMSE'])\n"
   ]
  },
  {
   "cell_type": "code",
   "execution_count": 18,
   "metadata": {},
   "outputs": [
    {
     "ename": "NameError",
     "evalue": "name 'get_cv_idxs' is not defined",
     "output_type": "error",
     "traceback": [
      "\u001b[1;31m---------------------------------------------------------------------------\u001b[0m",
      "\u001b[1;31mNameError\u001b[0m                                 Traceback (most recent call last)",
      "\u001b[1;32m<ipython-input-18-738c418048ec>\u001b[0m in \u001b[0;36m<module>\u001b[1;34m()\u001b[0m\n\u001b[1;32m----> 1\u001b[1;33m \u001b[0mval_indx\u001b[0m \u001b[1;33m=\u001b[0m \u001b[0mget_cv_idxs\u001b[0m\u001b[1;33m(\u001b[0m\u001b[0mlen\u001b[0m\u001b[1;33m(\u001b[0m\u001b[0mfull_ratings\u001b[0m\u001b[1;33m)\u001b[0m\u001b[1;33m)\u001b[0m  \u001b[1;31m# index for validation set\u001b[0m\u001b[1;33m\u001b[0m\u001b[0m\n\u001b[0m\u001b[0;32m      2\u001b[0m \u001b[1;31m#wd = 2e-4 # weight decay\u001b[0m\u001b[1;33m\u001b[0m\u001b[1;33m\u001b[0m\u001b[0m\n\u001b[0;32m      3\u001b[0m \u001b[1;31m#n_factors = 50 # n_factors - dimension of embedding matrix (D)\u001b[0m\u001b[1;33m\u001b[0m\u001b[1;33m\u001b[0m\u001b[0m\n\u001b[0;32m      4\u001b[0m \u001b[1;33m\u001b[0m\u001b[0m\n\u001b[0;32m      5\u001b[0m \u001b[1;31m# data loader\u001b[0m\u001b[1;33m\u001b[0m\u001b[1;33m\u001b[0m\u001b[0m\n",
      "\u001b[1;31mNameError\u001b[0m: name 'get_cv_idxs' is not defined"
     ]
    }
   ],
   "source": [
    "val_indx = get_cv_idxs(len(full_ratings))  # index for validation set\n",
    "#wd = 2e-4 # weight decay\n",
    "#n_factors = 50 # n_factors - dimension of embedding matrix (D)\n",
    "\n",
    "# data loader\n",
    "#cf = CollabFilterDataset.from_csv(path, 'ratings_small.csv', 'userId', 'movieId', 'rating')\n",
    "\n",
    "# learner initializes model object\n",
    "#learn = cf.get_learner(n_factors, val_indx, bs=64, opt_fn=optim.Adam)\n",
    "\n",
    "# fitting model with 1e-2 learning rate, 2 epochs, \n",
    "# (1 cycle length and 2 cycle multiple for learning rate scheduling)\n",
    "#learn.fit(1e-2,2, wds = wd, cycle_len=1, cycle_mult=2)"
   ]
  }
 ],
 "metadata": {
  "kernelspec": {
   "display_name": "Python 3",
   "language": "python",
   "name": "python3"
  },
  "language_info": {
   "codemirror_mode": {
    "name": "ipython",
    "version": 3
   },
   "file_extension": ".py",
   "mimetype": "text/x-python",
   "name": "python",
   "nbconvert_exporter": "python",
   "pygments_lexer": "ipython3",
   "version": "3.6.2"
  }
 },
 "nbformat": 4,
 "nbformat_minor": 2
}
