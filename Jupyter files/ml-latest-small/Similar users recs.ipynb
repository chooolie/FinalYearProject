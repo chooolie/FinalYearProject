{
 "cells": [
  {
   "cell_type": "code",
   "execution_count": 7,
   "metadata": {},
   "outputs": [
    {
     "data": {
      "text/plain": [
       "[6377,\n",
       " 3996,\n",
       " 2605,\n",
       " 1267,\n",
       " 1876,\n",
       " 2427,\n",
       " 2763,\n",
       " 1438,\n",
       " 2671,\n",
       " 1909,\n",
       " 2641,\n",
       " 3991,\n",
       " 33794,\n",
       " 1367,\n",
       " 58293,\n",
       " 748,\n",
       " 1911,\n",
       " 8961,\n",
       " 5618,\n",
       " 122922]"
      ]
     },
     "execution_count": 7,
     "metadata": {},
     "output_type": "execute_result"
    }
   ],
   "source": [
    "import pandas as pd \n",
    "import numpy as np\n",
    "\n",
    "from collections import Counter\n",
    "import warnings\n",
    "warnings.filterwarnings('ignore')\n",
    "\n",
    "\n",
    "\n",
    "#this is something that will work in future when there are users that have voted on movies\n",
    "#can only show it working based on current user data i have acquired\n",
    "\n",
    "def similar_user(user):\n",
    "    #merge ratings and movies\n",
    "    ratings = pd.read_csv(\"ratings.csv\")\n",
    "    movies = pd.read_csv(\"movies.csv\")\n",
    "    ratings = pd.merge(ratings, movies, on='movieId')\n",
    "    #get the average rating for each movie and add to DF avg_rating\n",
    "    avg_rating = pd.DataFrame(ratings.groupby('movieId')['rating'].mean())\n",
    "    #Get count of ammount of votes per movie and add to DF\n",
    "    avg_rating['count_ratings'] = ratings.groupby('movieId')['rating'].count()\n",
    "\n",
    "    ratings_matrix = ratings.pivot_table(index='title', columns='userId', values='rating')\n",
    "    user_id = ratings_matrix[user]\n",
    "    similar_to=ratings_matrix.corrwith(user_id)\n",
    "    correlation = pd.DataFrame(similar_to, columns=['Correlation'])\n",
    "    correlation.dropna(inplace=True)\n",
    "    correlation = correlation.join(avg_rating['count_ratings'])\n",
    "    similar_movies = correlation[correlation['count_ratings'] > 1].sort_values(by='Correlation', ascending=False).head(5)\n",
    "    return similar_movies\n",
    "\n",
    "def users_faves(user):\n",
    "    ratings = pd.read_csv(\"ratings.csv\")\n",
    "    user_demo = ratings.loc[(ratings.userId == user)].sort_values(by=['rating'], ascending=False).head(15)\n",
    "    #return 5 most similar users based on ratings\n",
    "    return user_demo\n",
    "\n",
    "def get_movies(user):\n",
    "    sim = similar_user(user)\n",
    "    sim = sim.iloc[:,0:0]\n",
    "\n",
    "    all_movies = []\n",
    "    for col in sim.iterrows():\n",
    "        all_movies.append(users_faves(col[0]))\n",
    "\n",
    "    top_movies = []\n",
    "    \n",
    "    user1 =all_movies[0]\n",
    "    top_movies.extend(user1['movieId'].values.tolist())\n",
    "    user2 = all_movies[1]\n",
    "    top_movies.extend(user2['movieId'].values.tolist())\n",
    "    user3 = all_movies[2]\n",
    "    top_movies.extend(user3['movieId'].values.tolist())\n",
    "    user4 = all_movies[3]\n",
    "    top_movies.extend(user4['movieId'].values.tolist())\n",
    "    user5 = all_movies[4]\n",
    "    top_movies.extend(user5['movieId'].values.tolist())\n",
    "\n",
    "    return top_movies\n",
    "    \n",
    "user1_rec = get_movies(1027)\n",
    "df_rec = pd.DataFrame(data= { 'movieId':user1_rec})\n",
    "\n",
    "all_mov= [word for word, word_count in Counter(user1_rec).most_common(20)]\n",
    "all_mov"
   ]
  }
 ],
 "metadata": {
  "kernelspec": {
   "display_name": "Python 3",
   "language": "python",
   "name": "python3"
  },
  "language_info": {
   "codemirror_mode": {
    "name": "ipython",
    "version": 3
   },
   "file_extension": ".py",
   "mimetype": "text/x-python",
   "name": "python",
   "nbconvert_exporter": "python",
   "pygments_lexer": "ipython3",
   "version": "3.6.2"
  }
 },
 "nbformat": 4,
 "nbformat_minor": 2
}
